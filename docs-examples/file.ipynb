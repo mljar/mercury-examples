{
 "cells": [
  {
   "cell_type": "code",
   "execution_count": 1,
   "id": "4f6db62e",
   "metadata": {},
   "outputs": [],
   "source": [
    "import mercury as mr"
   ]
  },
  {
   "cell_type": "code",
   "execution_count": 2,
   "id": "bf73b3c8",
   "metadata": {},
   "outputs": [
    {
     "data": {
      "application/mercury+json": "{\n    \"widget\": \"App\",\n    \"title\": \"File\",\n    \"description\": \"Show File widget usage\",\n    \"show_code\": true,\n    \"show_prompt\": false,\n    \"output\": \"app\",\n    \"schedule\": \"\",\n    \"notify\": \"{}\",\n    \"continuous_update\": true,\n    \"static_notebook\": false,\n    \"show_sidebar\": true,\n    \"full_screen\": true,\n    \"allow_download\": true,\n    \"model_id\": \"mercury-app\",\n    \"code_uid\": \"App.0.40.24.2-randeccaa7dc\"\n}",
      "text/html": [
       "<h3>Mercury Application</h3><small>This output won't appear in the web app.</small>"
      ],
      "text/plain": [
       "mercury.App"
      ]
     },
     "metadata": {},
     "output_type": "display_data"
    }
   ],
   "source": [
    "# setup app properies\n",
    "app = mr.App(title=\"File\", description=\"Show File widget usage\", show_code=True)"
   ]
  },
  {
   "cell_type": "code",
   "execution_count": 3,
   "id": "4cea8f0b",
   "metadata": {},
   "outputs": [
    {
     "data": {
      "application/mercury+json": "{\n    \"widget\": \"File\",\n    \"max_file_size\": \"100MB\",\n    \"label\": \"Please upload text file\",\n    \"model_id\": \"854d3f05a5474c238724c8724257c1aa\",\n    \"code_uid\": \"File.0.40.18.1-randb334d7a0\",\n    \"disabled\": false,\n    \"hidden\": false\n}",
      "application/vnd.jupyter.widget-view+json": {
       "model_id": "854d3f05a5474c238724c8724257c1aa",
       "version_major": 2,
       "version_minor": 0
      },
      "text/plain": [
       "mercury.File"
      ]
     },
     "metadata": {},
     "output_type": "display_data"
    }
   ],
   "source": [
    "uploaded = mr.File(label=\"Please upload text file\")"
   ]
  },
  {
   "cell_type": "code",
   "execution_count": 4,
   "id": "61f42f53",
   "metadata": {},
   "outputs": [],
   "source": [
    "# you can access file name and file path\n",
    "if uploaded.filepath:\n",
    "    print(f\"Uploaded file name: {uploaded.filename}\")\n",
    "    print(f\"Uploaded file path: {uploaded.filepath}\")"
   ]
  },
  {
   "cell_type": "code",
   "execution_count": 5,
   "id": "16c03474",
   "metadata": {},
   "outputs": [],
   "source": [
    "# you can read file\n",
    "if uploaded.filepath:\n",
    "    with open(uploaded.filepath, \"r\") as fin:\n",
    "        print(fin.read())"
   ]
  },
  {
   "cell_type": "code",
   "execution_count": 6,
   "id": "330d5569",
   "metadata": {},
   "outputs": [],
   "source": [
    "# or you can access file content in binary format\n",
    "if uploaded.filepath:\n",
    "    print(uploaded.value)"
   ]
  },
  {
   "cell_type": "code",
   "execution_count": null,
   "id": "74d4a626",
   "metadata": {},
   "outputs": [],
   "source": []
  }
 ],
 "metadata": {
  "kernelspec": {
   "display_name": "mex",
   "language": "python",
   "name": "mex"
  },
  "language_info": {
   "codemirror_mode": {
    "name": "ipython",
    "version": 3
   },
   "file_extension": ".py",
   "mimetype": "text/x-python",
   "name": "python",
   "nbconvert_exporter": "python",
   "pygments_lexer": "ipython3",
   "version": "3.8.10"
  }
 },
 "nbformat": 4,
 "nbformat_minor": 5
}
