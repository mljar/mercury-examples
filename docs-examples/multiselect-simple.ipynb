{
 "cells": [
  {
   "cell_type": "code",
   "execution_count": 1,
   "id": "036eee6a",
   "metadata": {},
   "outputs": [],
   "source": [
    "import mercury as mr"
   ]
  },
  {
   "cell_type": "code",
   "execution_count": 2,
   "id": "82c5f979",
   "metadata": {},
   "outputs": [
    {
     "data": {
      "application/mercury+json": "{\n    \"widget\": \"MultiSelect\",\n    \"value\": [\n        \"a\",\n        \"b\"\n    ],\n    \"choices\": [\n        \"a\",\n        \"b\",\n        \"c\",\n        \"d\",\n        \"e\"\n    ],\n    \"label\": \"Please select letters\",\n    \"model_id\": \"a2bf60a88cb741d7a41d0589c088cfc8\",\n    \"code_uid\": \"MultiSelect.0.40.16.2-rand881edec4\",\n    \"url_key\": \"\",\n    \"disabled\": false,\n    \"hidden\": false\n}",
      "application/vnd.jupyter.widget-view+json": {
       "model_id": "a2bf60a88cb741d7a41d0589c088cfc8",
       "version_major": 2,
       "version_minor": 0
      },
      "text/plain": [
       "mercury.MultiSelect"
      ]
     },
     "metadata": {},
     "output_type": "display_data"
    }
   ],
   "source": [
    "# add select widget\n",
    "selected = mr.MultiSelect(label=\"Please select letters\", \n",
    "                          value=[\"a\", \"b\"], \n",
    "                          choices=[\"a\", \"b\", \"c\", \"d\", \"e\"])"
   ]
  },
  {
   "cell_type": "code",
   "execution_count": 3,
   "id": "0cc1cf51",
   "metadata": {},
   "outputs": [
    {
     "name": "stdout",
     "output_type": "stream",
     "text": [
      "['a', 'b']\n"
     ]
    }
   ],
   "source": [
    "print(selected.value)"
   ]
  }
 ],
 "metadata": {
  "kernelspec": {
   "display_name": "mex",
   "language": "python",
   "name": "mex"
  },
  "language_info": {
   "codemirror_mode": {
    "name": "ipython",
    "version": 3
   },
   "file_extension": ".py",
   "mimetype": "text/x-python",
   "name": "python",
   "nbconvert_exporter": "python",
   "pygments_lexer": "ipython3",
   "version": "3.8.10"
  }
 },
 "nbformat": 4,
 "nbformat_minor": 5
}
