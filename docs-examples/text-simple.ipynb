{
 "cells": [
  {
   "cell_type": "code",
   "execution_count": 1,
   "id": "10432ec2",
   "metadata": {},
   "outputs": [
    {
     "data": {
      "application/mercury+json": "{\n    \"widget\": \"Text\",\n    \"value\": \"Piotr\",\n    \"rows\": 1,\n    \"label\": \"What is your name?\",\n    \"model_id\": \"b8fb1013feef47849604c9150321c9fe\",\n    \"code_uid\": \"Text.0.40.15.4-rand0254bb78\",\n    \"url_key\": \"\",\n    \"disabled\": false,\n    \"hidden\": false\n}",
      "application/vnd.jupyter.widget-view+json": {
       "model_id": "b8fb1013feef47849604c9150321c9fe",
       "version_major": 2,
       "version_minor": 0
      },
      "text/plain": [
       "mercury.Text"
      ]
     },
     "metadata": {},
     "output_type": "display_data"
    }
   ],
   "source": [
    "import mercury as mr\n",
    "\n",
    "# add text widget\n",
    "your_text = mr.Text(value=\"Piotr\", label=\"What is your name?\", rows=1)\n"
   ]
  },
  {
   "cell_type": "code",
   "execution_count": 2,
   "id": "50b071b2",
   "metadata": {},
   "outputs": [
    {
     "name": "stdout",
     "output_type": "stream",
     "text": [
      "Hello Piotr!\n"
     ]
    }
   ],
   "source": [
    "# use widget value in the code\n",
    "print(f\"Hello {your_text.value}!\")"
   ]
  },
  {
   "cell_type": "code",
   "execution_count": null,
   "id": "1d524fc1",
   "metadata": {},
   "outputs": [],
   "source": []
  }
 ],
 "metadata": {
  "kernelspec": {
   "display_name": "mex",
   "language": "python",
   "name": "mex"
  },
  "language_info": {
   "codemirror_mode": {
    "name": "ipython",
    "version": 3
   },
   "file_extension": ".py",
   "mimetype": "text/x-python",
   "name": "python",
   "nbconvert_exporter": "python",
   "pygments_lexer": "ipython3",
   "version": "3.8.10"
  }
 },
 "nbformat": 4,
 "nbformat_minor": 5
}
