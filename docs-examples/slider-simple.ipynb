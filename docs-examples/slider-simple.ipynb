{
 "cells": [
  {
   "cell_type": "code",
   "execution_count": 1,
   "id": "b2377049",
   "metadata": {},
   "outputs": [
    {
     "data": {
      "application/mercury+json": "{\n    \"widget\": \"Slider\",\n    \"value\": 5,\n    \"min\": 0,\n    \"max\": 10,\n    \"step\": 1,\n    \"label\": \"Your favourite number\",\n    \"model_id\": \"3eb3b56f384f49ab99e8e17cdeb9ba96\",\n    \"code_uid\": \"Slider.0.40.26.4-rand8e3693fa\",\n    \"url_key\": \"\",\n    \"disabled\": false,\n    \"hidden\": false\n}",
      "application/vnd.jupyter.widget-view+json": {
       "model_id": "3eb3b56f384f49ab99e8e17cdeb9ba96",
       "version_major": 2,
       "version_minor": 0
      },
      "text/plain": [
       "mercury.Slider"
      ]
     },
     "metadata": {},
     "output_type": "display_data"
    },
    {
     "name": "stdout",
     "output_type": "stream",
     "text": [
      "Your value is 5\n"
     ]
    }
   ],
   "source": [
    "import mercury as mr\n",
    "\n",
    "# add range widget\n",
    "your_slider = mr.Slider(value=5, min=0, max=10, label=\"Your favourite number\", step=1)\n",
    "    \n",
    "# access widget value in the code\n",
    "print(f\"Your value is {your_slider.value}\")"
   ]
  },
  {
   "cell_type": "code",
   "execution_count": null,
   "id": "910a11c0",
   "metadata": {},
   "outputs": [],
   "source": []
  }
 ],
 "metadata": {
  "kernelspec": {
   "display_name": "mex",
   "language": "python",
   "name": "mex"
  },
  "language_info": {
   "codemirror_mode": {
    "name": "ipython",
    "version": 3
   },
   "file_extension": ".py",
   "mimetype": "text/x-python",
   "name": "python",
   "nbconvert_exporter": "python",
   "pygments_lexer": "ipython3",
   "version": "3.8.10"
  }
 },
 "nbformat": 4,
 "nbformat_minor": 5
}
