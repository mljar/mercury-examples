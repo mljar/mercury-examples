{
 "cells": [
  {
   "cell_type": "code",
   "execution_count": null,
   "id": "56186c66",
   "metadata": {},
   "outputs": [],
   "source": [
    "import pandas as pd\n",
    "import mercury as mr\n",
    "from pivottablejs import pivot_ui"
   ]
  },
  {
   "cell_type": "code",
   "execution_count": null,
   "id": "0bed8c85",
   "metadata": {},
   "outputs": [],
   "source": [
    "app = mr.App(title=\"Pivot table\", \n",
    "             description=\"Do pivot table on any CSV file\")"
   ]
  },
  {
   "cell_type": "code",
   "execution_count": null,
   "id": "a8753e0b",
   "metadata": {},
   "outputs": [],
   "source": [
    "my_file = mr.File(label=\"Upload CSV file\")"
   ]
  },
  {
   "cell_type": "code",
   "execution_count": null,
   "id": "b0fcea34",
   "metadata": {},
   "outputs": [],
   "source": [
    "if my_file.filepath is None:\n",
    "    mr.Markdown(\"Please upload CSV file\")\n",
    "    mr.Stop()"
   ]
  },
  {
   "cell_type": "code",
   "execution_count": null,
   "id": "a6c23ef7",
   "metadata": {},
   "outputs": [],
   "source": [
    "# load CSV data\n",
    "df = pd.read_csv(my_file.filepath)"
   ]
  },
  {
   "cell_type": "code",
   "execution_count": null,
   "id": "8c9aa19c",
   "metadata": {},
   "outputs": [],
   "source": [
    "# display pivot table \n",
    "pivot_ui(df, height=\"800px\")"
   ]
  },
  {
   "cell_type": "code",
   "execution_count": null,
   "id": "4daedfa1",
   "metadata": {},
   "outputs": [],
   "source": []
  },
  {
   "cell_type": "code",
   "execution_count": null,
   "id": "30f131a0",
   "metadata": {},
   "outputs": [],
   "source": []
  }
 ],
 "metadata": {
  "kernelspec": {
   "display_name": "demo_env",
   "language": "python",
   "name": "demo_env"
  },
  "language_info": {
   "codemirror_mode": {
    "name": "ipython",
    "version": 3
   },
   "file_extension": ".py",
   "mimetype": "text/x-python",
   "name": "python",
   "nbconvert_exporter": "python",
   "pygments_lexer": "ipython3",
   "version": "3.8.10"
  }
 },
 "nbformat": 4,
 "nbformat_minor": 5
}
