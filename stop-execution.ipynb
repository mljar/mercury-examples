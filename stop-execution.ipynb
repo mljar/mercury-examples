{
 "cells": [
  {
   "cell_type": "code",
   "execution_count": 1,
   "id": "873f02ad",
   "metadata": {},
   "outputs": [],
   "source": [
    "import mercury as mr"
   ]
  },
  {
   "cell_type": "code",
   "execution_count": 2,
   "id": "9da9c2f4",
   "metadata": {},
   "outputs": [
    {
     "data": {
      "application/mercury+json": "{\n    \"widget\": \"Checkbox\",\n    \"value\": false,\n    \"label\": \"Should we stop?\",\n    \"model_id\": \"4b7a698209244b0db08433d948a4fa79\",\n    \"code_uid\": \"Checkbox.0.41.11.1-rand89bdfa97\"\n}",
      "application/vnd.jupyter.widget-view+json": {
       "model_id": "4b7a698209244b0db08433d948a4fa79",
       "version_major": 2,
       "version_minor": 0
      },
      "text/plain": [
       "mercury.Checkbox"
      ]
     },
     "metadata": {},
     "output_type": "display_data"
    }
   ],
   "source": [
    "should_stop = mr.Checkbox(value=False, label=\"Should we stop?\")"
   ]
  },
  {
   "cell_type": "code",
   "execution_count": 3,
   "id": "c39b478e",
   "metadata": {},
   "outputs": [],
   "source": [
    "if should_stop.value:\n",
    "    print(\"We stop execution here!\")\n",
    "    mr.Stop()"
   ]
  },
  {
   "cell_type": "code",
   "execution_count": 4,
   "id": "0fa1013f",
   "metadata": {},
   "outputs": [
    {
     "name": "stdout",
     "output_type": "stream",
     "text": [
      "Some code ...\n"
     ]
    }
   ],
   "source": [
    "print(\"Some code ...\")"
   ]
  },
  {
   "cell_type": "code",
   "execution_count": null,
   "id": "477343f8",
   "metadata": {},
   "outputs": [],
   "source": []
  }
 ],
 "metadata": {
  "kernelspec": {
   "display_name": "mex",
   "language": "python",
   "name": "mex"
  },
  "language_info": {
   "codemirror_mode": {
    "name": "ipython",
    "version": 3
   },
   "file_extension": ".py",
   "mimetype": "text/x-python",
   "name": "python",
   "nbconvert_exporter": "python",
   "pygments_lexer": "ipython3",
   "version": "3.8.10"
  }
 },
 "nbformat": 4,
 "nbformat_minor": 5
}
