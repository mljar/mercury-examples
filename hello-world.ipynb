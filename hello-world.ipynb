{
 "cells": [
  {
   "cell_type": "code",
   "execution_count": 1,
   "id": "510021ae",
   "metadata": {},
   "outputs": [],
   "source": [
    "import mercury as mr"
   ]
  },
  {
   "cell_type": "code",
   "execution_count": 2,
   "id": "99e3dc7f",
   "metadata": {},
   "outputs": [
    {
     "data": {
      "application/mercury+json": "{\n    \"widget\": \"Text\",\n    \"value\": \"Piotr\",\n    \"rows\": 1,\n    \"label\": \"What is your name?\",\n    \"model_id\": \"a6986d70a175454cb6640e4f6c5c1d6a\",\n    \"code_uid\": \"Text.0.32.13.1\"\n}",
      "application/vnd.jupyter.widget-view+json": {
       "model_id": "a6986d70a175454cb6640e4f6c5c1d6a",
       "version_major": 2,
       "version_minor": 0
      },
      "text/plain": [
       "mercury.Text"
      ]
     },
     "metadata": {},
     "output_type": "display_data"
    }
   ],
   "source": [
    "name = mr.Text(value=\"Piotr\", label=\"What is your name?\")"
   ]
  },
  {
   "cell_type": "code",
   "execution_count": 3,
   "id": "5d1e69d6",
   "metadata": {},
   "outputs": [
    {
     "name": "stdout",
     "output_type": "stream",
     "text": [
      "Hello Piotr!\n"
     ]
    }
   ],
   "source": [
    "print(f\"Hello {name.value}!\")"
   ]
  },
  {
   "cell_type": "code",
   "execution_count": null,
   "id": "d2a2d42e",
   "metadata": {},
   "outputs": [],
   "source": []
  }
 ],
 "metadata": {
  "kernelspec": {
   "display_name": "mex",
   "language": "python",
   "name": "mex"
  },
  "language_info": {
   "codemirror_mode": {
    "name": "ipython",
    "version": 3
   },
   "file_extension": ".py",
   "mimetype": "text/x-python",
   "name": "python",
   "nbconvert_exporter": "python",
   "pygments_lexer": "ipython3",
   "version": "3.8.10"
  }
 },
 "nbformat": 4,
 "nbformat_minor": 5
}
