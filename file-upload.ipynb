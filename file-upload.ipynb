{
 "cells": [
  {
   "cell_type": "code",
   "execution_count": 1,
   "id": "a1d7a65c",
   "metadata": {},
   "outputs": [],
   "source": [
    "import mercury as mr"
   ]
  },
  {
   "cell_type": "code",
   "execution_count": 2,
   "id": "af978f18",
   "metadata": {},
   "outputs": [
    {
     "data": {
      "application/mercury+json": "{\n    \"widget\": \"File\",\n    \"max_file_size\": \"10MB\",\n    \"label\": \"File upload\",\n    \"model_id\": \"1a7f099c94d84abb81e070b07fd65dd2\",\n    \"code_uid\": \"File.0.41.14.1-rand3efb48c0\"\n}",
      "application/vnd.jupyter.widget-view+json": {
       "model_id": "1a7f099c94d84abb81e070b07fd65dd2",
       "version_major": 2,
       "version_minor": 0
      },
      "text/plain": [
       "mercury.File"
      ]
     },
     "metadata": {},
     "output_type": "display_data"
    }
   ],
   "source": [
    "file = mr.File(label=\"File upload\", max_file_size=\"10MB\")"
   ]
  },
  {
   "cell_type": "code",
   "execution_count": 3,
   "id": "c6d901ea",
   "metadata": {},
   "outputs": [
    {
     "name": "stdout",
     "output_type": "stream",
     "text": [
      "Uploaded file name: None\n"
     ]
    }
   ],
   "source": [
    "print(f\"Uploaded file name: {file.filename}\")"
   ]
  },
  {
   "cell_type": "code",
   "execution_count": 4,
   "id": "78419aff",
   "metadata": {},
   "outputs": [
    {
     "name": "stdout",
     "output_type": "stream",
     "text": [
      "Uploaded file path: None\n"
     ]
    }
   ],
   "source": [
    "print(f\"Uploaded file path: {file.filepath}\")"
   ]
  },
  {
   "cell_type": "code",
   "execution_count": 5,
   "id": "92d8f42b",
   "metadata": {},
   "outputs": [],
   "source": [
    "if file.filepath is not None:\n",
    "    with open(file.filepath, \"r\") as fin:\n",
    "        print(fin.read())"
   ]
  },
  {
   "cell_type": "code",
   "execution_count": null,
   "id": "f315b8a8",
   "metadata": {},
   "outputs": [],
   "source": []
  }
 ],
 "metadata": {
  "kernelspec": {
   "display_name": "mex",
   "language": "python",
   "name": "mex"
  },
  "language_info": {
   "codemirror_mode": {
    "name": "ipython",
    "version": 3
   },
   "file_extension": ".py",
   "mimetype": "text/x-python",
   "name": "python",
   "nbconvert_exporter": "python",
   "pygments_lexer": "ipython3",
   "version": "3.8.10"
  }
 },
 "nbformat": 4,
 "nbformat_minor": 5
}
