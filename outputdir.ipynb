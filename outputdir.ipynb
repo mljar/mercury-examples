{
 "cells": [
  {
   "cell_type": "code",
   "execution_count": 1,
   "id": "6cf96c09",
   "metadata": {},
   "outputs": [],
   "source": [
    "import os\n",
    "import mercury as mr"
   ]
  },
  {
   "cell_type": "code",
   "execution_count": 2,
   "id": "205ae03c",
   "metadata": {},
   "outputs": [
    {
     "data": {
      "application/mercury+json": "{\n    \"widget\": \"App\",\n    \"title\": \"OutputDir\",\n    \"description\": \"App with OutputDir\",\n    \"show_code\": false,\n    \"show_prompt\": false,\n    \"output\": \"app\",\n    \"schedule\": \"\",\n    \"notify\": \"{}\",\n    \"continuous_update\": true,\n    \"static_notebook\": false,\n    \"show_sidebar\": true,\n    \"full_screen\": true,\n    \"allow_download\": true,\n    \"model_id\": \"mercury-app\",\n    \"code_uid\": \"App.0.40.24.1-rand7d8042f3\"\n}",
      "text/html": [
       "<h3>Mercury Application</h3><small>This output won't appear in the web app.</small>"
      ],
      "text/plain": [
       "mercury.App"
      ]
     },
     "metadata": {},
     "output_type": "display_data"
    }
   ],
   "source": [
    "app = mr.App(title=\"OutputDir\", description=\"App with OutputDir\")"
   ]
  },
  {
   "cell_type": "code",
   "execution_count": 3,
   "id": "6754c631",
   "metadata": {},
   "outputs": [
    {
     "data": {
      "application/mercury+json": "{\n    \"widget\": \"OutputDir\",\n    \"model_id\": \"output-dir\",\n    \"code_uid\": \"OutputDir.0.40.18.2-rand4d44f94b\"\n}",
      "text/html": [
       "<h3>Output Directory</h3><small>This output won't appear in the web app.</small>"
      ],
      "text/plain": [
       "mercury.OutputDir"
      ]
     },
     "metadata": {},
     "output_type": "display_data"
    }
   ],
   "source": [
    "# get output directory widget\n",
    "my_dir = mr.OutputDir()"
   ]
  },
  {
   "cell_type": "code",
   "execution_count": 4,
   "id": "9fd366e9",
   "metadata": {},
   "outputs": [
    {
     "name": "stdout",
     "output_type": "stream",
     "text": [
      "All files will be saved to .\n"
     ]
    }
   ],
   "source": [
    "# print output directory path\n",
    "print(f\"All files will be saved to {my_dir.path}\")"
   ]
  },
  {
   "cell_type": "code",
   "execution_count": 5,
   "id": "e54cb6af",
   "metadata": {},
   "outputs": [],
   "source": [
    "# save example file\n",
    "with open(os.path.join(my_dir.path, \"example-file.txt\"), \"w\") as fout:\n",
    "    fout.write(\"Hello Mercury!\")"
   ]
  },
  {
   "cell_type": "code",
   "execution_count": 6,
   "id": "6acc29ef",
   "metadata": {},
   "outputs": [],
   "source": [
    "# one more example file\n",
    "with open(os.path.join(my_dir.path, \"second-file.txt\"), \"w\") as fout:\n",
    "    fout.write(\"Hello again!\")"
   ]
  }
 ],
 "metadata": {
  "kernelspec": {
   "display_name": "menv",
   "language": "python",
   "name": "menv"
  },
  "language_info": {
   "codemirror_mode": {
    "name": "ipython",
    "version": 3
   },
   "file_extension": ".py",
   "mimetype": "text/x-python",
   "name": "python",
   "nbconvert_exporter": "python",
   "pygments_lexer": "ipython3",
   "version": "3.9.16"
  }
 },
 "nbformat": 4,
 "nbformat_minor": 5
}
