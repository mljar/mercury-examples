{
 "cells": [
  {
   "cell_type": "code",
   "execution_count": 1,
   "id": "7a651244",
   "metadata": {},
   "outputs": [],
   "source": [
    "import mercury as mr"
   ]
  },
  {
   "cell_type": "code",
   "execution_count": 2,
   "id": "1d8f2cd7",
   "metadata": {},
   "outputs": [
    {
     "data": {
      "application/mercury+json": "{\n    \"widget\": \"Text\",\n    \"value\": \"0\",\n    \"rows\": 1,\n    \"label\": \"Widget 0\",\n    \"model_id\": \"854548a0c21e447da53da5373c6c4649\",\n    \"code_uid\": \"Text.0.40.15.3.w-0-rand3c26b313\",\n    \"url_key\": \"w-0\",\n    \"disabled\": false,\n    \"hidden\": false\n}",
      "application/vnd.jupyter.widget-view+json": {
       "model_id": "854548a0c21e447da53da5373c6c4649",
       "version_major": 2,
       "version_minor": 0
      },
      "text/plain": [
       "mercury.Text"
      ]
     },
     "metadata": {},
     "output_type": "display_data"
    },
    {
     "data": {
      "application/mercury+json": "{\n    \"widget\": \"Text\",\n    \"value\": \"1\",\n    \"rows\": 1,\n    \"label\": \"Widget 1\",\n    \"model_id\": \"0958235ff57349daa3a4ecce68b68db2\",\n    \"code_uid\": \"Text.0.40.15.3.w-1-rande2028888\",\n    \"url_key\": \"w-1\",\n    \"disabled\": false,\n    \"hidden\": false\n}",
      "application/vnd.jupyter.widget-view+json": {
       "model_id": "0958235ff57349daa3a4ecce68b68db2",
       "version_major": 2,
       "version_minor": 0
      },
      "text/plain": [
       "mercury.Text"
      ]
     },
     "metadata": {},
     "output_type": "display_data"
    },
    {
     "data": {
      "application/mercury+json": "{\n    \"widget\": \"Text\",\n    \"value\": \"2\",\n    \"rows\": 1,\n    \"label\": \"Widget 2\",\n    \"model_id\": \"211e32b589854625a4da014d081dd89b\",\n    \"code_uid\": \"Text.0.40.15.3.w-2-rand307ff14a\",\n    \"url_key\": \"w-2\",\n    \"disabled\": false,\n    \"hidden\": false\n}",
      "application/vnd.jupyter.widget-view+json": {
       "model_id": "211e32b589854625a4da014d081dd89b",
       "version_major": 2,
       "version_minor": 0
      },
      "text/plain": [
       "mercury.Text"
      ]
     },
     "metadata": {},
     "output_type": "display_data"
    },
    {
     "data": {
      "application/mercury+json": "{\n    \"widget\": \"Text\",\n    \"value\": \"3\",\n    \"rows\": 1,\n    \"label\": \"Widget 3\",\n    \"model_id\": \"9f826b3b8c354eaba9a10dd87c8e6468\",\n    \"code_uid\": \"Text.0.40.15.3.w-3-rande6e0b35e\",\n    \"url_key\": \"w-3\",\n    \"disabled\": false,\n    \"hidden\": false\n}",
      "application/vnd.jupyter.widget-view+json": {
       "model_id": "9f826b3b8c354eaba9a10dd87c8e6468",
       "version_major": 2,
       "version_minor": 0
      },
      "text/plain": [
       "mercury.Text"
      ]
     },
     "metadata": {},
     "output_type": "display_data"
    },
    {
     "data": {
      "application/mercury+json": "{\n    \"widget\": \"Text\",\n    \"value\": \"4\",\n    \"rows\": 1,\n    \"label\": \"Widget 4\",\n    \"model_id\": \"50c2dbee0ef6458c95b8084c351d656a\",\n    \"code_uid\": \"Text.0.40.15.3.w-4-rand7a0964cc\",\n    \"url_key\": \"w-4\",\n    \"disabled\": false,\n    \"hidden\": false\n}",
      "application/vnd.jupyter.widget-view+json": {
       "model_id": "50c2dbee0ef6458c95b8084c351d656a",
       "version_major": 2,
       "version_minor": 0
      },
      "text/plain": [
       "mercury.Text"
      ]
     },
     "metadata": {},
     "output_type": "display_data"
    }
   ],
   "source": [
    "texts = []\n",
    "for i in range(5):\n",
    "    texts += [mr.Text(label=f\"Widget {i}\", value=f\"{i}\", url_key=f\"w-{i}\")]"
   ]
  },
  {
   "cell_type": "code",
   "execution_count": 3,
   "id": "79039e7b",
   "metadata": {},
   "outputs": [
    {
     "name": "stdout",
     "output_type": "stream",
     "text": [
      "0\n",
      "1\n",
      "2\n",
      "3\n",
      "4\n"
     ]
    }
   ],
   "source": [
    "for t in texts:\n",
    "    print(t.value)"
   ]
  }
 ],
 "metadata": {
  "kernelspec": {
   "display_name": "menv",
   "language": "python",
   "name": "menv"
  },
  "language_info": {
   "codemirror_mode": {
    "name": "ipython",
    "version": 3
   },
   "file_extension": ".py",
   "mimetype": "text/x-python",
   "name": "python",
   "nbconvert_exporter": "python",
   "pygments_lexer": "ipython3",
   "version": "3.9.16"
  }
 },
 "nbformat": 4,
 "nbformat_minor": 5
}
