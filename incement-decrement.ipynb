{
 "cells": [
  {
   "cell_type": "code",
   "execution_count": 1,
   "id": "f3d78b93",
   "metadata": {},
   "outputs": [],
   "source": [
    "import mercury as mr"
   ]
  },
  {
   "cell_type": "code",
   "execution_count": 2,
   "id": "f482cc0f",
   "metadata": {},
   "outputs": [],
   "source": [
    "some_value = 0"
   ]
  },
  {
   "cell_type": "code",
   "execution_count": 3,
   "id": "655fe8a5",
   "metadata": {},
   "outputs": [
    {
     "data": {
      "application/mercury+json": "{\n    \"widget\": \"Button\",\n    \"label\": \"Increment\",\n    \"style\": \"success\",\n    \"value\": false,\n    \"model_id\": \"edea3d65a8f14df1aa6844775513c8b4\",\n    \"code_uid\": \"Button.0.41.12.1-rand6479cf74\"\n}",
      "application/vnd.jupyter.widget-view+json": {
       "model_id": "edea3d65a8f14df1aa6844775513c8b4",
       "version_major": 2,
       "version_minor": 0
      },
      "text/plain": [
       "mercury.Button"
      ]
     },
     "metadata": {},
     "output_type": "display_data"
    }
   ],
   "source": [
    "increment = mr.Button(label=\"Increment\", style=\"success\")"
   ]
  },
  {
   "cell_type": "code",
   "execution_count": 4,
   "id": "dd34e9a2",
   "metadata": {},
   "outputs": [
    {
     "data": {
      "application/mercury+json": "{\n    \"widget\": \"Button\",\n    \"label\": \"Decrement\",\n    \"style\": \"danger\",\n    \"value\": false,\n    \"model_id\": \"e66f50dc75d1441eb3754471c7710474\",\n    \"code_uid\": \"Button.0.41.12.1-rand05d0d87d\"\n}",
      "application/vnd.jupyter.widget-view+json": {
       "model_id": "e66f50dc75d1441eb3754471c7710474",
       "version_major": 2,
       "version_minor": 0
      },
      "text/plain": [
       "mercury.Button"
      ]
     },
     "metadata": {},
     "output_type": "display_data"
    }
   ],
   "source": [
    "decrement = mr.Button(label=\"Decrement\", style=\"danger\")"
   ]
  },
  {
   "cell_type": "code",
   "execution_count": 5,
   "id": "b5b712de",
   "metadata": {},
   "outputs": [],
   "source": [
    "if increment.clicked:\n",
    "    some_value += 1\n",
    "    \n",
    "if decrement.clicked:\n",
    "    some_value -= 1"
   ]
  },
  {
   "cell_type": "code",
   "execution_count": 6,
   "id": "16f35450",
   "metadata": {},
   "outputs": [
    {
     "name": "stdout",
     "output_type": "stream",
     "text": [
      "Value is 0\n"
     ]
    }
   ],
   "source": [
    "print(f\"Value is {some_value}\")"
   ]
  },
  {
   "cell_type": "code",
   "execution_count": null,
   "id": "912b2f76",
   "metadata": {},
   "outputs": [],
   "source": []
  }
 ],
 "metadata": {
  "kernelspec": {
   "display_name": "mex",
   "language": "python",
   "name": "mex"
  },
  "language_info": {
   "codemirror_mode": {
    "name": "ipython",
    "version": 3
   },
   "file_extension": ".py",
   "mimetype": "text/x-python",
   "name": "python",
   "nbconvert_exporter": "python",
   "pygments_lexer": "ipython3",
   "version": "3.8.10"
  }
 },
 "nbformat": 4,
 "nbformat_minor": 5
}
