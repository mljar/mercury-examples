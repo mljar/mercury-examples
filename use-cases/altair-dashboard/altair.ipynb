{
 "cells": [
  {
   "cell_type": "code",
   "execution_count": 9,
   "id": "d629dcd9",
   "metadata": {},
   "outputs": [],
   "source": [
    "import altair as alt\n",
    "from vega_datasets import data\n",
    "import mercury as mr"
   ]
  },
  {
   "cell_type": "code",
   "execution_count": 2,
   "id": "1b224acd",
   "metadata": {},
   "outputs": [
    {
     "data": {
      "application/mercury+json": "{\n    \"widget\": \"App\",\n    \"title\": \"Airports\",\n    \"description\": \"Dashboard with airports location\",\n    \"show_code\": false,\n    \"show_prompt\": false,\n    \"output\": \"app\",\n    \"schedule\": \"\",\n    \"notify\": \"{}\",\n    \"continuous_update\": true,\n    \"static_notebook\": false,\n    \"show_sidebar\": true,\n    \"full_screen\": true,\n    \"allow_download\": true,\n    \"model_id\": \"mercury-app\",\n    \"code_uid\": \"App.0.40.24.1-rand4489e373\"\n}",
      "text/html": [
       "<h3>Mercury Application</h3><small>This output won't appear in the web app.</small>"
      ],
      "text/plain": [
       "mercury.App"
      ]
     },
     "metadata": {},
     "output_type": "display_data"
    }
   ],
   "source": [
    "app = mr.App(title=\"Airports ✈️\", description=\"Dashboard with airports location\")"
   ]
  },
  {
   "cell_type": "code",
   "execution_count": 3,
   "id": "143a1a20",
   "metadata": {},
   "outputs": [],
   "source": [
    "airports = data.airports()\n",
    "states = alt.topo_feature(data.us_10m.url, feature='states')"
   ]
  },
  {
   "cell_type": "code",
   "execution_count": 4,
   "id": "90aec880",
   "metadata": {},
   "outputs": [
    {
     "data": {
      "application/mercury+json": "{\n    \"widget\": \"MultiSelect\",\n    \"value\": [\n        \"TX\",\n        \"LA\"\n    ],\n    \"choices\": [\n        \"MS\",\n        \"TX\",\n        \"CO\",\n        \"NY\",\n        \"FL\",\n        \"AL\",\n        \"WI\",\n        \"OH\",\n        \"MO\",\n        \"MN\",\n        \"IN\",\n        \"NV\",\n        \"IL\",\n        \"ND\",\n        \"MI\",\n        \"NE\",\n        \"GA\",\n        \"DC\",\n        \"TN\",\n        \"AK\",\n        \"ME\",\n        \"MA\",\n        \"VT\",\n        \"SD\",\n        \"NM\",\n        \"OK\",\n        \"KS\",\n        \"KY\",\n        \"IA\",\n        \"AR\",\n        \"LA\",\n        \"CA\",\n        \"WA\",\n        \"VA\",\n        \"AZ\",\n        \"PA\",\n        \"NJ\",\n        \"OR\",\n        \"NC\",\n        \"UT\",\n        \"MT\",\n        \"ID\",\n        \"CT\",\n        \"SC\",\n        \"NH\",\n        \"MD\",\n        \"DE\",\n        \"WV\",\n        \"WY\",\n        \"PR\",\n        \"RI\",\n        \"AS\",\n        \"CQ\",\n        \"GU\",\n        \"HI\",\n        \"VI\"\n    ],\n    \"label\": \"Select states\",\n    \"model_id\": \"39d0180163094ff9bffba39b0ebace0d\",\n    \"code_uid\": \"MultiSelect.0.40.16.1-rand718f029b\",\n    \"url_key\": \"\",\n    \"disabled\": false,\n    \"hidden\": false\n}",
      "application/vnd.jupyter.widget-view+json": {
       "model_id": "39d0180163094ff9bffba39b0ebace0d",
       "version_major": 2,
       "version_minor": 0
      },
      "text/plain": [
       "mercury.MultiSelect"
      ]
     },
     "metadata": {},
     "output_type": "display_data"
    }
   ],
   "source": [
    "selected_states = mr.MultiSelect(label=\"Select states\", value=[\"TX\", \"LA\"], \n",
    "                                 choices=[a for a in airports.state.unique() if isinstance(a, str)])"
   ]
  },
  {
   "cell_type": "code",
   "execution_count": 5,
   "id": "413b86fd",
   "metadata": {},
   "outputs": [],
   "source": [
    "selected_airports = airports[airports.state.isin(selected_states.value)]"
   ]
  },
  {
   "cell_type": "code",
   "execution_count": 6,
   "id": "8673b645",
   "metadata": {},
   "outputs": [
    {
     "data": {
      "text/html": [
       "<style scoped>\n",
       "        .numberbox-container {\n",
       "        width: 100%;\n",
       "        display: flex;\n",
       "        flex-direction: row;\n",
       "        }\n",
       "        @media (max-width: 800px) {\n",
       "        .numberbox-container {\n",
       "            flex-direction: column;\n",
       "        }\n",
       "        }\n",
       "        </style><div class=\"numberbox-container\" style=\"display: flex; background: #fff\">\n",
       "<div style=\"text-align: center; width: 100%; border: 1px solid lightgray; margin: 10px; padding-top: 40px; padding-bottom: 30px; background: white; border-radius:5px\">\n",
       "  <span style=\"font-size: 4em; color: black; font-family: monospace; \">264</span>\n",
       "  \n",
       "  <span style=\"font-size: 2em; color: gray; display: block; padding-top: 20px; font-family: monospace; line-height: 1.3em;\"># airports</span>\n",
       "</div>\n",
       "  \n",
       "<div style=\"text-align: center; width: 100%; border: 1px solid lightgray; margin: 10px; padding-top: 40px; padding-bottom: 30px; background: white; border-radius:5px\">\n",
       "  <span style=\"font-size: 4em; color: black; font-family: monospace; \">2</span>\n",
       "  \n",
       "  <span style=\"font-size: 2em; color: gray; display: block; padding-top: 20px; font-family: monospace; line-height: 1.3em;\"># states</span>\n",
       "</div>\n",
       "  \n",
       "<div style=\"text-align: center; width: 100%; border: 1px solid lightgray; margin: 10px; padding-top: 40px; padding-bottom: 30px; background: white; border-radius:5px\">\n",
       "  <span style=\"font-size: 4em; color: black; font-family: monospace; \">241</span>\n",
       "  \n",
       "  <span style=\"font-size: 2em; color: gray; display: block; padding-top: 20px; font-family: monospace; line-height: 1.3em;\"># cities</span>\n",
       "</div>\n",
       "  </div>"
      ],
      "text/plain": [
       "<widgets.numberbox.NumberBox at 0x7fdfc6532730>"
      ]
     },
     "execution_count": 6,
     "metadata": {},
     "output_type": "execute_result"
    }
   ],
   "source": [
    "mr.NumberBox([\n",
    "    mr.NumberBox(selected_airports.shape[0], \"# airports\"),\n",
    "    mr.NumberBox(len(selected_states.value), \"# states\"),\n",
    "    mr.NumberBox(len(selected_airports.city.unique()), \"# cities\"),\n",
    "    \n",
    "])"
   ]
  },
  {
   "cell_type": "code",
   "execution_count": 7,
   "id": "716e26a4",
   "metadata": {},
   "outputs": [],
   "source": [
    "\n",
    "\n",
    "# US states background\n",
    "background = (\n",
    "    alt.Chart(states)\n",
    "    .mark_geoshape(\n",
    "        fill=\"#f1f5f9\",\n",
    "        stroke=\"#2684ff\",\n",
    "    )\n",
    "    .project(\"albersUsa\")\n",
    "    .properties(height=600, width=\"container\")\n",
    ")\n",
    "# airport positions on background\n",
    "points = alt.Chart(selected_airports).mark_circle(\n",
    "    size=10,\n",
    "    color='#ef6f6c'\n",
    ").encode(\n",
    "    longitude='longitude:Q',\n",
    "    latitude='latitude:Q',\n",
    "    tooltip=['name', 'city', 'state']\n",
    ")\n",
    "\n"
   ]
  },
  {
   "cell_type": "code",
   "execution_count": 8,
   "id": "9f8cba1c",
   "metadata": {},
   "outputs": [
    {
     "data": {
      "text/html": [
       "\n",
       "<style>\n",
       "  #altair-viz-9cd82f8a7a914227afb60ef836899297.vega-embed {\n",
       "    width: 100%;\n",
       "    display: flex;\n",
       "  }\n",
       "\n",
       "  #altair-viz-9cd82f8a7a914227afb60ef836899297.vega-embed details,\n",
       "  #altair-viz-9cd82f8a7a914227afb60ef836899297.vega-embed details summary {\n",
       "    position: relative;\n",
       "  }\n",
       "</style>\n",
       "<div id=\"altair-viz-9cd82f8a7a914227afb60ef836899297\"></div>\n",
       "<script type=\"text/javascript\">\n",
       "  var VEGA_DEBUG = (typeof VEGA_DEBUG == \"undefined\") ? {} : VEGA_DEBUG;\n",
       "  (function(spec, embedOpt){\n",
       "    let outputDiv = document.currentScript.previousElementSibling;\n",
       "    if (outputDiv.id !== \"altair-viz-9cd82f8a7a914227afb60ef836899297\") {\n",
       "      outputDiv = document.getElementById(\"altair-viz-9cd82f8a7a914227afb60ef836899297\");\n",
       "    }\n",
       "    const paths = {\n",
       "      \"vega\": \"https://cdn.jsdelivr.net/npm/vega@5?noext\",\n",
       "      \"vega-lib\": \"https://cdn.jsdelivr.net/npm/vega-lib?noext\",\n",
       "      \"vega-lite\": \"https://cdn.jsdelivr.net/npm/vega-lite@5.8.0?noext\",\n",
       "      \"vega-embed\": \"https://cdn.jsdelivr.net/npm/vega-embed@6?noext\",\n",
       "    };\n",
       "\n",
       "    function maybeLoadScript(lib, version) {\n",
       "      var key = `${lib.replace(\"-\", \"\")}_version`;\n",
       "      return (VEGA_DEBUG[key] == version) ?\n",
       "        Promise.resolve(paths[lib]) :\n",
       "        new Promise(function(resolve, reject) {\n",
       "          var s = document.createElement('script');\n",
       "          document.getElementsByTagName(\"head\")[0].appendChild(s);\n",
       "          s.async = true;\n",
       "          s.onload = () => {\n",
       "            VEGA_DEBUG[key] = version;\n",
       "            return resolve(paths[lib]);\n",
       "          };\n",
       "          s.onerror = () => reject(`Error loading script: ${paths[lib]}`);\n",
       "          s.src = paths[lib];\n",
       "        });\n",
       "    }\n",
       "\n",
       "    function showError(err) {\n",
       "      outputDiv.innerHTML = `<div class=\"error\" style=\"color:red;\">${err}</div>`;\n",
       "      throw err;\n",
       "    }\n",
       "\n",
       "    function displayChart(vegaEmbed) {\n",
       "      vegaEmbed(outputDiv, spec, embedOpt)\n",
       "        .catch(err => showError(`Javascript Error: ${err.message}<br>This usually means there's a typo in your chart specification. See the javascript console for the full traceback.`));\n",
       "    }\n",
       "\n",
       "    if(typeof define === \"function\" && define.amd) {\n",
       "      requirejs.config({paths});\n",
       "      require([\"vega-embed\"], displayChart, err => showError(`Error loading script: ${err.message}`));\n",
       "    } else {\n",
       "      maybeLoadScript(\"vega\", \"5\")\n",
       "        .then(() => maybeLoadScript(\"vega-lite\", \"5.8.0\"))\n",
       "        .then(() => maybeLoadScript(\"vega-embed\", \"6\"))\n",
       "        .catch(showError)\n",
       "        .then(() => displayChart(vegaEmbed));\n",
       "    }\n",
       "  })({\"config\": {\"view\": {\"continuousWidth\": 300, \"continuousHeight\": 300}}, \"layer\": [{\"data\": {\"url\": \"https://cdn.jsdelivr.net/npm/vega-datasets@v1.29.0/data/us-10m.json\", \"format\": {\"feature\": \"states\", \"type\": \"topojson\"}}, \"mark\": {\"type\": \"geoshape\", \"fill\": \"#f1f5f9\", \"stroke\": \"#2684ff\"}, \"projection\": {\"type\": \"albersUsa\"}}, {\"data\": {\"name\": \"data-0ba25919355e8a5a71475b3389cd72c3\"}, \"mark\": {\"type\": \"circle\", \"color\": \"#ef6f6c\", \"size\": 10}, \"encoding\": {\"latitude\": {\"field\": \"latitude\", \"type\": \"quantitative\"}, \"longitude\": {\"field\": \"longitude\", \"type\": \"quantitative\"}, \"tooltip\": [{\"field\": \"name\", \"type\": \"nominal\"}, {\"field\": \"city\", \"type\": \"nominal\"}, {\"field\": \"state\", \"type\": \"nominal\"}]}}], \"height\": 600, \"width\": \"container\", \"$schema\": \"https://vega.github.io/schema/vega-lite/v5.8.0.json\", \"datasets\": {\"data-0ba25919355e8a5a71475b3389cd72c3\": [{\"iata\": \"00R\", \"name\": \"Livingston Municipal\", \"city\": \"Livingston\", \"state\": \"TX\", \"country\": \"USA\", \"latitude\": 30.68586111, \"longitude\": -95.01792778}, {\"iata\": \"05F\", \"name\": \"Gatesville - City/County\", \"city\": \"Gatesville\", \"state\": \"TX\", \"country\": \"USA\", \"latitude\": 31.42127556, \"longitude\": -97.79696778}, {\"iata\": \"07F\", \"name\": \"Gladewater Municipal\", \"city\": \"Gladewater\", \"state\": \"TX\", \"country\": \"USA\", \"latitude\": 32.52883861, \"longitude\": -94.97174556}, {\"iata\": \"0F2\", \"name\": \"Bowie Municipal\", \"city\": \"Bowie\", \"state\": \"TX\", \"country\": \"USA\", \"latitude\": 33.60166667, \"longitude\": -97.77556}, {\"iata\": \"11R\", \"name\": \"Brenham Municipal\", \"city\": \"Brenham\", \"state\": \"TX\", \"country\": \"USA\", \"latitude\": 30.219, \"longitude\": -96.37427778}, {\"iata\": \"15F\", \"name\": \"Haskell Municipal\", \"city\": \"Haskell\", \"state\": \"TX\", \"country\": \"USA\", \"latitude\": 33.19155556, \"longitude\": -99.71793056}, {\"iata\": \"1F9\", \"name\": \"Bridgeport Municipal\", \"city\": \"Bridgeport\", \"state\": \"TX\", \"country\": \"USA\", \"latitude\": 33.17533333, \"longitude\": -97.82838889}, {\"iata\": \"21F\", \"name\": \"Jacksboro Municipal\", \"city\": \"Jacksboro\", \"state\": \"TX\", \"country\": \"USA\", \"latitude\": 33.228725, \"longitude\": -98.14671083}, {\"iata\": \"23R\", \"name\": \"Devine Municipal\", \"city\": \"Devine\", \"state\": \"TX\", \"country\": \"USA\", \"latitude\": 29.1384075, \"longitude\": -98.94189028}, {\"iata\": \"25R\", \"name\": \"International\", \"city\": \"Edinburg\", \"state\": \"TX\", \"country\": \"USA\", \"latitude\": 26.44201083, \"longitude\": -98.12945306}, {\"iata\": \"26R\", \"name\": \"Jackson County\", \"city\": \"Edna/Ganado\", \"state\": \"TX\", \"country\": \"USA\", \"latitude\": 29.00101, \"longitude\": -96.58194667}, {\"iata\": \"2F5\", \"name\": \"Lamesa Municipal\", \"city\": \"Lamesa\", \"state\": \"TX\", \"country\": \"USA\", \"latitude\": 32.75627778, \"longitude\": -101.9194722}, {\"iata\": \"2F7\", \"name\": \"Commerce Municipal\", \"city\": \"Commerce\", \"state\": \"TX\", \"country\": \"USA\", \"latitude\": 33.29288889, \"longitude\": -95.89641806}, {\"iata\": \"2R9\", \"name\": \"Karnes County\", \"city\": \"Kenedy\", \"state\": \"TX\", \"country\": \"USA\", \"latitude\": 28.8250075, \"longitude\": -97.86558333}, {\"iata\": \"2T1\", \"name\": \"Muleshoe Municipal\", \"city\": \"Muleshoe\", \"state\": \"TX\", \"country\": \"USA\", \"latitude\": 34.18513639, \"longitude\": -102.6410981}, {\"iata\": \"31F\", \"name\": \"Gaines County\", \"city\": \"Seminole\", \"state\": \"TX\", \"country\": \"USA\", \"latitude\": 32.67535389, \"longitude\": -102.652685}, {\"iata\": \"3R0\", \"name\": \"Beeville Municipal\", \"city\": \"Beeville\", \"state\": \"TX\", \"country\": \"USA\", \"latitude\": 28.36455528, \"longitude\": -97.79208194}, {\"iata\": \"3R1\", \"name\": \"Bay City Municipal\", \"city\": \"Bay City\", \"state\": \"TX\", \"country\": \"USA\", \"latitude\": 28.973255, \"longitude\": -95.86345528}, {\"iata\": \"3T5\", \"name\": \"Fayette Regional Air Center\", \"city\": \"La Grange\", \"state\": \"TX\", \"country\": \"USA\", \"latitude\": 29.90930556, \"longitude\": -96.9505}, {\"iata\": \"45R\", \"name\": \"Kountz - Hawthorne\", \"city\": \"Kountze/Silsbee\", \"state\": \"TX\", \"country\": \"USA\", \"latitude\": 30.33633806, \"longitude\": -94.25754361}, {\"iata\": \"49T\", \"name\": \"Downtown Heliport\", \"city\": \"Dallas\", \"state\": \"TX\", \"country\": \"USA\", \"latitude\": 32.77333333, \"longitude\": -96.80027778}, {\"iata\": \"4F2\", \"name\": \"Panola County-Sharpe\", \"city\": \"Carthage\", \"state\": \"TX\", \"country\": \"USA\", \"latitude\": 32.17608333, \"longitude\": -94.29880556}, {\"iata\": \"4F4\", \"name\": \"Gilmer-Upshur County\", \"city\": \"Gilmer\", \"state\": \"TX\", \"country\": \"USA\", \"latitude\": 32.699, \"longitude\": -94.94886111}, {\"iata\": \"4T6\", \"name\": \"Mid-Way\", \"city\": \"Midlothian-Waxahachie\", \"state\": \"TX\", \"country\": \"USA\", \"latitude\": 32.45609722, \"longitude\": -96.91240972}, {\"iata\": \"50R\", \"name\": \"Lockhart Municipal\", \"city\": \"Lockhart\", \"state\": \"TX\", \"country\": \"USA\", \"latitude\": 29.85033333, \"longitude\": -97.67241667}, {\"iata\": \"5F1\", \"name\": \"Post-Garza County Municipal\", \"city\": \"Post\", \"state\": \"TX\", \"country\": \"USA\", \"latitude\": 33.20370556, \"longitude\": -101.340415}, {\"iata\": \"5R3\", \"name\": \"Rusty Allen\", \"city\": \"Lago Vista\", \"state\": \"TX\", \"country\": \"USA\", \"latitude\": 30.498585, \"longitude\": -97.96947222}, {\"iata\": \"5R5\", \"name\": \"Wharton Municipal\", \"city\": \"Wharton\", \"state\": \"TX\", \"country\": \"USA\", \"latitude\": 29.25427778, \"longitude\": -96.15438889}, {\"iata\": \"5T5\", \"name\": \"Hillsboro Municipal\", \"city\": \"Hillsboro\", \"state\": \"TX\", \"country\": \"USA\", \"latitude\": 32.08348611, \"longitude\": -97.09722722}, {\"iata\": \"5T9\", \"name\": \"Maverick County Meml Intl\", \"city\": \"Eagle Pass\", \"state\": \"TX\", \"country\": \"USA\", \"latitude\": 28.85719361, \"longitude\": -100.5122997}, {\"iata\": \"60F\", \"name\": \"Seymour Municipal\", \"city\": \"Seymour\", \"state\": \"TX\", \"country\": \"USA\", \"latitude\": 33.64870417, \"longitude\": -99.26063056}, {\"iata\": \"62H\", \"name\": \"Giddings-Lee County\", \"city\": \"Giddings\", \"state\": \"TX\", \"country\": \"USA\", \"latitude\": 30.16927167, \"longitude\": -96.98001083}, {\"iata\": \"6R3\", \"name\": \"Cleveland Municipal\", \"city\": \"Cleveland\", \"state\": \"TX\", \"country\": \"USA\", \"latitude\": 30.35643, \"longitude\": -95.00801472}, {\"iata\": \"6R9\", \"name\": \"Llano Municipal\", \"city\": \"Llano\", \"state\": \"TX\", \"country\": \"USA\", \"latitude\": 30.78450278, \"longitude\": -98.66025083}, {\"iata\": \"7F3\", \"name\": \"Caddo Mills Municipal\", \"city\": \"Caddo Mills\", \"state\": \"TX\", \"country\": \"USA\", \"latitude\": 33.03622222, \"longitude\": -96.24313889}, {\"iata\": \"7F6\", \"name\": \"Clarksville-Red River County\", \"city\": \"Clarksville\", \"state\": \"TX\", \"country\": \"USA\", \"latitude\": 33.59316472, \"longitude\": -95.06355528}, {\"iata\": \"7F7\", \"name\": \"Clifton Municipal\", \"city\": \"Clifton\", \"state\": \"TX\", \"country\": \"USA\", \"latitude\": 31.81682333, \"longitude\": -97.56696361}, {\"iata\": \"7F9\", \"name\": \"Comanche County-City\", \"city\": \"Comanche\", \"state\": \"TX\", \"country\": \"USA\", \"latitude\": 31.91681306, \"longitude\": -98.600325}, {\"iata\": \"84R\", \"name\": \"Smithville Municipal\", \"city\": \"Smithville\", \"state\": \"TX\", \"country\": \"USA\", \"latitude\": 30.03048028, \"longitude\": -97.16687194}, {\"iata\": \"8F7\", \"name\": \"Decatur Municipal\", \"city\": \"Decatur\", \"state\": \"TX\", \"country\": \"USA\", \"latitude\": 33.25463889, \"longitude\": -97.58055556}, {\"iata\": \"ABI\", \"name\": \"Abilene Regional\", \"city\": \"Abilene\", \"state\": \"TX\", \"country\": \"USA\", \"latitude\": 32.41132, \"longitude\": -99.68189722}, {\"iata\": \"ACT\", \"name\": \"Waco Regional\", \"city\": \"Waco\", \"state\": \"TX\", \"country\": \"USA\", \"latitude\": 31.61128833, \"longitude\": -97.23051917}, {\"iata\": \"ADS\", \"name\": \"Addison\", \"city\": \"Dallas/Addison\", \"state\": \"TX\", \"country\": \"USA\", \"latitude\": 32.96855944, \"longitude\": -96.83644778}, {\"iata\": \"AFW\", \"name\": \"Fort Worth Alliance\", \"city\": \"Fort Worth\", \"state\": \"TX\", \"country\": \"USA\", \"latitude\": 32.98763889, \"longitude\": -97.31880556}, {\"iata\": \"ALI\", \"name\": \"Alice International\", \"city\": \"Alice\", \"state\": \"TX\", \"country\": \"USA\", \"latitude\": 27.74088889, \"longitude\": -98.02694444}, {\"iata\": \"AMA\", \"name\": \"Amarillo International\", \"city\": \"Amarillo\", \"state\": \"TX\", \"country\": \"USA\", \"latitude\": 35.2193725, \"longitude\": -101.7059272}, {\"iata\": \"ASL\", \"name\": \"Marshall - Harrison County\", \"city\": \"Marshall\", \"state\": \"TX\", \"country\": \"USA\", \"latitude\": 32.5205, \"longitude\": -94.30777778}, {\"iata\": \"ATA\", \"name\": \"Hall-Miller Municipal\", \"city\": \"Atlanta\", \"state\": \"TX\", \"country\": \"USA\", \"latitude\": 33.101805, \"longitude\": -94.19532694}, {\"iata\": \"AUS\", \"name\": \"Austin-Bergstrom International\", \"city\": \"Austin\", \"state\": \"TX\", \"country\": \"USA\", \"latitude\": 30.19453278, \"longitude\": -97.66987194}, {\"iata\": \"BAZ\", \"name\": \"New Braunfels Municipal\", \"city\": \"New Braunfels\", \"state\": \"TX\", \"country\": \"USA\", \"latitude\": 29.7045, \"longitude\": -98.04222222}, {\"iata\": \"BBD\", \"name\": \"Curtis\", \"city\": \"Brady\", \"state\": \"TX\", \"country\": \"USA\", \"latitude\": 31.17816667, \"longitude\": -99.32463889}, {\"iata\": \"BGD\", \"name\": \"Hutchinson County\", \"city\": \"Borger\", \"state\": \"TX\", \"country\": \"USA\", \"latitude\": 35.70004194, \"longitude\": -101.3940536}, {\"iata\": \"BKD\", \"name\": \"Breckenridge Stephens County\", \"city\": \"Breckenridge\", \"state\": \"TX\", \"country\": \"USA\", \"latitude\": 32.71904694, \"longitude\": -98.89099972}, {\"iata\": \"BMQ\", \"name\": \"Burnet Muni-Kate Craddock\", \"city\": \"Burnet\", \"state\": \"TX\", \"country\": \"USA\", \"latitude\": 30.73894444, \"longitude\": -98.23858333}, {\"iata\": \"BMT\", \"name\": \"Beaumont Municipal\", \"city\": \"Beaumont\", \"state\": \"TX\", \"country\": \"USA\", \"latitude\": 30.07044111, \"longitude\": -94.21553806}, {\"iata\": \"BPT\", \"name\": \"Southeast Texas Regional\", \"city\": \"Beaumont/Port Arthur\", \"state\": \"TX\", \"country\": \"USA\", \"latitude\": 29.95083333, \"longitude\": -94.02069444}, {\"iata\": \"BRO\", \"name\": \"Brownsville/S.Padre Island International\", \"city\": \"Brownsville\", \"state\": \"TX\", \"country\": \"USA\", \"latitude\": 25.90683333, \"longitude\": -97.42586111}, {\"iata\": \"BWD\", \"name\": \"Brownwood Municipal\", \"city\": \"Brownwood\", \"state\": \"TX\", \"country\": \"USA\", \"latitude\": 31.79362222, \"longitude\": -98.95649528}, {\"iata\": \"CFD\", \"name\": \"Coulter\", \"city\": \"Bryan\", \"state\": \"TX\", \"country\": \"USA\", \"latitude\": 30.71569444, \"longitude\": -96.33136111}, {\"iata\": \"CLL\", \"name\": \"Easterwood\", \"city\": \"College Station\", \"state\": \"TX\", \"country\": \"USA\", \"latitude\": 30.58858944, \"longitude\": -96.36382417}, {\"iata\": \"CNW\", \"name\": \"TSTC-Waco\", \"city\": \"Waco\", \"state\": \"TX\", \"country\": \"USA\", \"latitude\": 31.63783139, \"longitude\": -97.07413889}, {\"iata\": \"COM\", \"name\": \"Coleman Municipal\", \"city\": \"Coleman\", \"state\": \"TX\", \"country\": \"USA\", \"latitude\": 31.84113889, \"longitude\": -99.40361111}, {\"iata\": \"COT\", \"name\": \"Cotulla-Lasalle County\", \"city\": \"Cotulla\", \"state\": \"TX\", \"country\": \"USA\", \"latitude\": 28.45825583, \"longitude\": -99.22016389}, {\"iata\": \"CRP\", \"name\": \"Corpus Christi International\", \"city\": \"Corpus Christi\", \"state\": \"TX\", \"country\": \"USA\", \"latitude\": 27.77036083, \"longitude\": -97.50121528}, {\"iata\": \"CRS\", \"name\": \"C Davis Campbell -Corsicana Muni\", \"city\": \"Corsicana\", \"state\": \"TX\", \"country\": \"USA\", \"latitude\": 32.02748861, \"longitude\": -96.39803611}, {\"iata\": \"CXO\", \"name\": \"Montgomery County\", \"city\": \"Conroe\", \"state\": \"TX\", \"country\": \"USA\", \"latitude\": 30.35183333, \"longitude\": -95.4144675}, {\"iata\": \"CZT\", \"name\": \"Dimmit County\", \"city\": \"Carrizo Springs\", \"state\": \"TX\", \"country\": \"USA\", \"latitude\": 28.52225111, \"longitude\": -99.82363444}, {\"iata\": \"DAL\", \"name\": \"Dallas Love\", \"city\": \"Dallas\", \"state\": \"TX\", \"country\": \"USA\", \"latitude\": 32.84711389, \"longitude\": -96.85177222}, {\"iata\": \"DFW\", \"name\": \"Dallas-Fort Worth International\", \"city\": \"Dallas-Fort Worth\", \"state\": \"TX\", \"country\": \"USA\", \"latitude\": 32.89595056, \"longitude\": -97.0372}, {\"iata\": \"DHT\", \"name\": \"Dalhart Municipal\", \"city\": \"Dalhart\", \"state\": \"TX\", \"country\": \"USA\", \"latitude\": 36.022585, \"longitude\": -102.5472775}, {\"iata\": \"DRT\", \"name\": \"Del Rio International\", \"city\": \"Del Rio\", \"state\": \"TX\", \"country\": \"USA\", \"latitude\": 29.37181222, \"longitude\": -100.9232339}, {\"iata\": \"DTO\", \"name\": \"Denton Municipal\", \"city\": \"Denton\", \"state\": \"TX\", \"country\": \"USA\", \"latitude\": 33.20072167, \"longitude\": -97.19797722}, {\"iata\": \"DUX\", \"name\": \"Moore County\", \"city\": \"Dumas\", \"state\": \"TX\", \"country\": \"USA\", \"latitude\": 35.85792833, \"longitude\": -102.0130978}, {\"iata\": \"DWH\", \"name\": \"David Wayne Hooks Memorial\", \"city\": \"Houston\", \"state\": \"TX\", \"country\": \"USA\", \"latitude\": 30.06186111, \"longitude\": -95.55277778}, {\"iata\": \"E01\", \"name\": \"Monahans-Roy Hurd Memorial\", \"city\": \"Monahans\", \"state\": \"TX\", \"country\": \"USA\", \"latitude\": 31.58246583, \"longitude\": -102.9090428}, {\"iata\": \"E11\", \"name\": \"Andrews County\", \"city\": \"Andrews\", \"state\": \"TX\", \"country\": \"USA\", \"latitude\": 32.33111111, \"longitude\": -102.5295278}, {\"iata\": \"E15\", \"name\": \"Graham Municipal\", \"city\": \"Graham\", \"state\": \"TX\", \"country\": \"USA\", \"latitude\": 33.11022222, \"longitude\": -98.55527861}, {\"iata\": \"E19\", \"name\": \"Gruver Municipal\", \"city\": \"Gruver\", \"state\": \"TX\", \"country\": \"USA\", \"latitude\": 36.23372611, \"longitude\": -101.4321894}, {\"iata\": \"E35\", \"name\": \"Fabens\", \"city\": \"Fabens\", \"state\": \"TX\", \"country\": \"USA\", \"latitude\": 31.51567306, \"longitude\": -106.1471978}, {\"iata\": \"E38\", \"name\": \"Alpine-Casparis Municipal\", \"city\": \"Alpine\", \"state\": \"TX\", \"country\": \"USA\", \"latitude\": 30.38422222, \"longitude\": -103.6835833}, {\"iata\": \"E42\", \"name\": \"Spearman Municipal\", \"city\": \"Spearman\", \"state\": \"TX\", \"country\": \"USA\", \"latitude\": 36.221, \"longitude\": -101.1945}, {\"iata\": \"E52\", \"name\": \"Oldham County\", \"city\": \"Vega\", \"state\": \"TX\", \"country\": \"USA\", \"latitude\": 35.23199833, \"longitude\": -102.3990931}, {\"iata\": \"EFD\", \"name\": \"Ellington\", \"city\": \"Houston\", \"state\": \"TX\", \"country\": \"USA\", \"latitude\": 29.60733333, \"longitude\": -95.15875}, {\"iata\": \"ELA\", \"name\": \"Eagle Lake Municipal\", \"city\": \"Eagle Lake\", \"state\": \"TX\", \"country\": \"USA\", \"latitude\": 29.60301389, \"longitude\": -96.32248444}, {\"iata\": \"ELP\", \"name\": \"El Paso International\", \"city\": \"El Paso\", \"state\": \"TX\", \"country\": \"USA\", \"latitude\": 31.80666667, \"longitude\": -106.3778056}, {\"iata\": \"ERV\", \"name\": \"Kerrville Muni/Louis Schreiner\", \"city\": \"Kerrville\", \"state\": \"TX\", \"country\": \"USA\", \"latitude\": 29.976735, \"longitude\": -99.08567972}, {\"iata\": \"ETN\", \"name\": \"Eastland Municipal\", \"city\": \"Eastland\", \"state\": \"TX\", \"country\": \"USA\", \"latitude\": 32.41349167, \"longitude\": -98.80975667}, {\"iata\": \"F00\", \"name\": \"Jones\", \"city\": \"Bonham\", \"state\": \"TX\", \"country\": \"USA\", \"latitude\": 33.61172222, \"longitude\": -96.17938889}, {\"iata\": \"F01\", \"name\": \"Quanah Municipal\", \"city\": \"Quanah\", \"state\": \"TX\", \"country\": \"USA\", \"latitude\": 34.27708306, \"longitude\": -99.75926861}, {\"iata\": \"F05\", \"name\": \"Vernon - Wilbarger County\", \"city\": \"Vernon\", \"state\": \"TX\", \"country\": \"USA\", \"latitude\": 34.22566806, \"longitude\": -99.28375}, {\"iata\": \"F06\", \"name\": \"Marian Airpark\", \"city\": \"Wellington\", \"state\": \"TX\", \"country\": \"USA\", \"latitude\": 34.84561083, \"longitude\": -100.1959481}, {\"iata\": \"F12\", \"name\": \"Rusk County\", \"city\": \"Henderson\", \"state\": \"TX\", \"country\": \"USA\", \"latitude\": 32.14172222, \"longitude\": -94.85172222}, {\"iata\": \"F17\", \"name\": \"Center Municipal\", \"city\": \"Center\", \"state\": \"TX\", \"country\": \"USA\", \"latitude\": 31.83158333, \"longitude\": -94.15641667}, {\"iata\": \"F18\", \"name\": \"Cleburne Municipal\", \"city\": \"Cleburne\", \"state\": \"TX\", \"country\": \"USA\", \"latitude\": 32.35376389, \"longitude\": -97.43375}, {\"iata\": \"F21\", \"name\": \"Memphis Municipal\", \"city\": \"Memphis\", \"state\": \"TX\", \"country\": \"USA\", \"latitude\": 34.73958944, \"longitude\": -100.5297008}, {\"iata\": \"F39\", \"name\": \"Grayson County\", \"city\": \"Sherman/Denison\", \"state\": \"TX\", \"country\": \"USA\", \"latitude\": 33.71411111, \"longitude\": -96.67366667}, {\"iata\": \"F41\", \"name\": \"Ennis Municipal\", \"city\": \"Ennis\", \"state\": \"TX\", \"country\": \"USA\", \"latitude\": 32.32969444, \"longitude\": -96.66388889}, {\"iata\": \"F44\", \"name\": \"Athens Jones Municipal\", \"city\": \"Athens\", \"state\": \"TX\", \"country\": \"USA\", \"latitude\": 32.16384778, \"longitude\": -95.82835306}, {\"iata\": \"F46\", \"name\": \"Rockwall Municipal\", \"city\": \"Rockwall\", \"state\": \"TX\", \"country\": \"USA\", \"latitude\": 32.93059444, \"longitude\": -96.43548556}, {\"iata\": \"F49\", \"name\": \"Slaton Municipal\", \"city\": \"Slaton\", \"state\": \"TX\", \"country\": \"USA\", \"latitude\": 33.48481, \"longitude\": -101.6607158}, {\"iata\": \"F51\", \"name\": \"Winnsboro Municipal\", \"city\": \"Winnsboro\", \"state\": \"TX\", \"country\": \"USA\", \"latitude\": 32.93884556, \"longitude\": -95.27886083}, {\"iata\": \"F53\", \"name\": \"Franklin County\", \"city\": \"Mount Vernon\", \"state\": \"TX\", \"country\": \"USA\", \"latitude\": 33.21530583, \"longitude\": -95.2374925}, {\"iata\": \"F55\", \"name\": \"Granbury Municipal\", \"city\": \"Granbury\", \"state\": \"TX\", \"country\": \"USA\", \"latitude\": 32.44441583, \"longitude\": -97.8169475}, {\"iata\": \"F56\", \"name\": \"Arledge\", \"city\": \"Stamford\", \"state\": \"TX\", \"country\": \"USA\", \"latitude\": 32.91019472, \"longitude\": -99.73422972}, {\"iata\": \"F85\", \"name\": \"Morton-Cochran County\", \"city\": \"Morton\", \"state\": \"TX\", \"country\": \"USA\", \"latitude\": 33.72926389, \"longitude\": -102.7338183}, {\"iata\": \"FST\", \"name\": \"Fort Stockton - Pecos County\", \"city\": \"Fort Stockton\", \"state\": \"TX\", \"country\": \"USA\", \"latitude\": 30.91566667, \"longitude\": -102.9161389}, {\"iata\": \"FTW\", \"name\": \"Fort Worth Meacham International\", \"city\": \"Fort Worth\", \"state\": \"TX\", \"country\": \"USA\", \"latitude\": 32.81977778, \"longitude\": -97.36244444}, {\"iata\": \"FWS\", \"name\": \"Spinks\", \"city\": \"Fort Worth\", \"state\": \"TX\", \"country\": \"USA\", \"latitude\": 32.56522778, \"longitude\": -97.30807778}, {\"iata\": \"GGG\", \"name\": \"Gregg County\", \"city\": \"Longview\", \"state\": \"TX\", \"country\": \"USA\", \"latitude\": 32.38486111, \"longitude\": -94.71171}, {\"iata\": \"GKY\", \"name\": \"Arlington Municipal\", \"city\": \"Arlington\", \"state\": \"TX\", \"country\": \"USA\", \"latitude\": 32.66241528, \"longitude\": -97.09391139}, {\"iata\": \"GLE\", \"name\": \"Gainesville Municipal\", \"city\": \"Gainesville\", \"state\": \"TX\", \"country\": \"USA\", \"latitude\": 33.65136111, \"longitude\": -97.19702778}, {\"iata\": \"GLS\", \"name\": \"Galveston-Scholes\", \"city\": \"Galveston\", \"state\": \"TX\", \"country\": \"USA\", \"latitude\": 29.26532333, \"longitude\": -94.86040667}, {\"iata\": \"GPM\", \"name\": \"Grand Prairie Municipal\", \"city\": \"Grand Prairie\", \"state\": \"TX\", \"country\": \"USA\", \"latitude\": 32.69858333, \"longitude\": -97.04652778}, {\"iata\": \"GRK\", \"name\": \"Robert Gray AAF\", \"city\": \"Killeen\", \"state\": \"TX\", \"country\": \"USA\", \"latitude\": 31.06489778, \"longitude\": -97.82779778}, {\"iata\": \"GTU\", \"name\": \"Georgetown Municipal\", \"city\": \"Georgetown\", \"state\": \"TX\", \"country\": \"USA\", \"latitude\": 30.67880889, \"longitude\": -97.67938389}, {\"iata\": \"GVT\", \"name\": \"Majors\", \"city\": \"Greenville\", \"state\": \"TX\", \"country\": \"USA\", \"latitude\": 33.06783889, \"longitude\": -96.0653325}, {\"iata\": \"HBV\", \"name\": \"Jim Hogg County\", \"city\": \"Hebbronville\", \"state\": \"TX\", \"country\": \"USA\", \"latitude\": 27.34955556, \"longitude\": -98.73697222}, {\"iata\": \"HDO\", \"name\": \"Hondo Municipal\", \"city\": \"Hondo\", \"state\": \"TX\", \"country\": \"USA\", \"latitude\": 29.35952778, \"longitude\": -99.17666667}, {\"iata\": \"HHF\", \"name\": \"Hemphill County\", \"city\": \"Canadian\", \"state\": \"TX\", \"country\": \"USA\", \"latitude\": 35.89530778, \"longitude\": -100.4036397}, {\"iata\": \"HOU\", \"name\": \"William P Hobby\", \"city\": \"Houston\", \"state\": \"TX\", \"country\": \"USA\", \"latitude\": 29.64541861, \"longitude\": -95.27888889}, {\"iata\": \"HQZ\", \"name\": \"Mesquite Metro\", \"city\": \"Mesquite\", \"state\": \"TX\", \"country\": \"USA\", \"latitude\": 32.74696278, \"longitude\": -96.53041722}, {\"iata\": \"HRL\", \"name\": \"Valley International\", \"city\": \"Harlingen\", \"state\": \"TX\", \"country\": \"USA\", \"latitude\": 26.22850611, \"longitude\": -97.65439389}, {\"iata\": \"HRX\", \"name\": \"Hereford Municipal\", \"city\": \"Hereford\", \"state\": \"TX\", \"country\": \"USA\", \"latitude\": 34.85761639, \"longitude\": -102.3272017}, {\"iata\": \"HYI\", \"name\": \"San Marcos Municipal\", \"city\": \"San Marcos\", \"state\": \"TX\", \"country\": \"USA\", \"latitude\": 29.89361111, \"longitude\": -97.86469444}, {\"iata\": \"IAH\", \"name\": \"George Bush Intercontinental\", \"city\": \"Houston\", \"state\": \"TX\", \"country\": \"USA\", \"latitude\": 29.98047222, \"longitude\": -95.33972222}, {\"iata\": \"ILE\", \"name\": \"Killeen Municipal\", \"city\": \"Killeen\", \"state\": \"TX\", \"country\": \"USA\", \"latitude\": 31.08583333, \"longitude\": -97.6865}, {\"iata\": \"INK\", \"name\": \"Winkler County\", \"city\": \"Wink\", \"state\": \"TX\", \"country\": \"USA\", \"latitude\": 31.77962833, \"longitude\": -103.2013619}, {\"iata\": \"IWS\", \"name\": \"West Houston\", \"city\": \"Houston\", \"state\": \"TX\", \"country\": \"USA\", \"latitude\": 29.81819444, \"longitude\": -95.67261111}, {\"iata\": \"JAS\", \"name\": \"Jasper County -Bell\", \"city\": \"Jasper\", \"state\": \"TX\", \"country\": \"USA\", \"latitude\": 30.89058333, \"longitude\": -94.03483333}, {\"iata\": \"JCT\", \"name\": \"Kimble County\", \"city\": \"Junction\", \"state\": \"TX\", \"country\": \"USA\", \"latitude\": 30.51126, \"longitude\": -99.76345528}, {\"iata\": \"JSO\", \"name\": \"Jacksonville-Cherokee County\", \"city\": \"Jacksonville\", \"state\": \"TX\", \"country\": \"USA\", \"latitude\": 31.86933667, \"longitude\": -95.21739028}, {\"iata\": \"LBB\", \"name\": \"Lubbock International\", \"city\": \"Lubbock\", \"state\": \"TX\", \"country\": \"USA\", \"latitude\": 33.66363889, \"longitude\": -101.8227778}, {\"iata\": \"LBX\", \"name\": \"Brazoria County\", \"city\": \"Angleton\", \"state\": \"TX\", \"country\": \"USA\", \"latitude\": 29.10863889, \"longitude\": -95.46208056}, {\"iata\": \"LFK\", \"name\": \"Lufkin-Angelina County\", \"city\": \"Lufkin\", \"state\": \"TX\", \"country\": \"USA\", \"latitude\": 31.23401389, \"longitude\": -94.75}, {\"iata\": \"LNC\", \"name\": \"Lancaster\", \"city\": \"Lancaster\", \"state\": \"TX\", \"country\": \"USA\", \"latitude\": 32.57919111, \"longitude\": -96.71905111}, {\"iata\": \"LRD\", \"name\": \"Laredo International\", \"city\": \"Laredo\", \"state\": \"TX\", \"country\": \"USA\", \"latitude\": 27.54373861, \"longitude\": -99.46154361}, {\"iata\": \"LVJ\", \"name\": \"Clover\", \"city\": \"Houston\", \"state\": \"TX\", \"country\": \"USA\", \"latitude\": 29.52130556, \"longitude\": -95.24216667}, {\"iata\": \"LXY\", \"name\": \"Mexia-Limestone County\", \"city\": \"Mexia\", \"state\": \"TX\", \"country\": \"USA\", \"latitude\": 31.63983472, \"longitude\": -96.51472222}, {\"iata\": \"MAF\", \"name\": \"Midland International\", \"city\": \"Midland\", \"state\": \"TX\", \"country\": \"USA\", \"latitude\": 31.94252778, \"longitude\": -102.2019139}, {\"iata\": \"MDD\", \"name\": \"Midland Airpark\", \"city\": \"Midland\", \"state\": \"TX\", \"country\": \"USA\", \"latitude\": 32.03652444, \"longitude\": -102.1010278}, {\"iata\": \"MFE\", \"name\": \"McAllen Miller International\", \"city\": \"McAllen\", \"state\": \"TX\", \"country\": \"USA\", \"latitude\": 26.17583333, \"longitude\": -98.23861111}, {\"iata\": \"MNZ\", \"name\": \"Hamilton Municipal\", \"city\": \"Hamilton\", \"state\": \"TX\", \"country\": \"USA\", \"latitude\": 31.66592639, \"longitude\": -98.1486375}, {\"iata\": \"MRF\", \"name\": \"Marfa Municipal\", \"city\": \"Marfa\", \"state\": \"TX\", \"country\": \"USA\", \"latitude\": 30.37147222, \"longitude\": -104.0166944}, {\"iata\": \"MSA\", \"name\": \"Mount Pleasant Municipal\", \"city\": \"Mount Pleasant\", \"state\": \"TX\", \"country\": \"USA\", \"latitude\": 33.12936111, \"longitude\": -94.97563889}, {\"iata\": \"MWL\", \"name\": \"Mineral Wells Municipal\", \"city\": \"Mineral Wells\", \"state\": \"TX\", \"country\": \"USA\", \"latitude\": 32.78160556, \"longitude\": -98.060175}, {\"iata\": \"OCH\", \"name\": \"Nacogdoches-A.L. Mangham Jr. Regional\", \"city\": \"Nacogdoches\", \"state\": \"TX\", \"country\": \"USA\", \"latitude\": 31.57802778, \"longitude\": -94.70954167}, {\"iata\": \"ODO\", \"name\": \"Odessa-Schlemeyer\", \"city\": \"Odessa\", \"state\": \"TX\", \"country\": \"USA\", \"latitude\": 31.92056722, \"longitude\": -102.3870892}, {\"iata\": \"ONY\", \"name\": \"Olney Municipal\", \"city\": \"Olney\", \"state\": \"TX\", \"country\": \"USA\", \"latitude\": 33.35088056, \"longitude\": -98.81916667}, {\"iata\": \"ORG\", \"name\": \"Orange County\", \"city\": \"Orange\", \"state\": \"TX\", \"country\": \"USA\", \"latitude\": 30.06916667, \"longitude\": -93.80091667}, {\"iata\": \"OZA\", \"name\": \"Ozona Municipal\", \"city\": \"Ozona\", \"state\": \"TX\", \"country\": \"USA\", \"latitude\": 30.73528028, \"longitude\": -101.2029719}, {\"iata\": \"PEQ\", \"name\": \"Pecos Municipal\", \"city\": \"Pecos City\", \"state\": \"TX\", \"country\": \"USA\", \"latitude\": 31.3823575, \"longitude\": -103.5107017}, {\"iata\": \"PEZ\", \"name\": \"Pleasanton Municipal\", \"city\": \"Pleasanton\", \"state\": \"TX\", \"country\": \"USA\", \"latitude\": 28.95419444, \"longitude\": -98.51998917}, {\"iata\": \"PIL\", \"name\": \"Port Isabel-Cameron County\", \"city\": \"Port Isabel\", \"state\": \"TX\", \"country\": \"USA\", \"latitude\": 26.16621, \"longitude\": -97.34588611}, {\"iata\": \"PPA\", \"name\": \"Perry Lefors\", \"city\": \"Pampa\", \"state\": \"TX\", \"country\": \"USA\", \"latitude\": 35.61298806, \"longitude\": -100.9962608}, {\"iata\": \"PRX\", \"name\": \"Cox\", \"city\": \"Paris\", \"state\": \"TX\", \"country\": \"USA\", \"latitude\": 33.63660667, \"longitude\": -95.45073194}, {\"iata\": \"PSN\", \"name\": \"Palestine Municipal\", \"city\": \"Palestine\", \"state\": \"TX\", \"country\": \"USA\", \"latitude\": 31.77969444, \"longitude\": -95.70630556}, {\"iata\": \"PSX\", \"name\": \"Palacios Municipal\", \"city\": \"Palacios\", \"state\": \"TX\", \"country\": \"USA\", \"latitude\": 28.72751778, \"longitude\": -96.2509675}, {\"iata\": \"PVW\", \"name\": \"Hale County\", \"city\": \"Plainview\", \"state\": \"TX\", \"country\": \"USA\", \"latitude\": 34.16814722, \"longitude\": -101.7173361}, {\"iata\": \"PWG\", \"name\": \"McGregor Exectuive\", \"city\": \"Waco\", \"state\": \"TX\", \"country\": \"USA\", \"latitude\": 31.48491667, \"longitude\": -97.31652778}, {\"iata\": \"PYX\", \"name\": \"Perryton Ochiltree County\", \"city\": \"Perryton\", \"state\": \"TX\", \"country\": \"USA\", \"latitude\": 36.41200333, \"longitude\": -100.7517883}, {\"iata\": \"Q00\", \"name\": \"Littlefield Municipal\", \"city\": \"Littlefield\", \"state\": \"TX\", \"country\": \"USA\", \"latitude\": 33.92395306, \"longitude\": -102.3866831}, {\"iata\": \"Q06\", \"name\": \"City of Tulia/Swisher County Municipal\", \"city\": \"Tulia\", \"state\": \"TX\", \"country\": \"USA\", \"latitude\": 34.56682472, \"longitude\": -101.7814611}, {\"iata\": \"Q24\", \"name\": \"Levelland Municipal\", \"city\": \"Levelland\", \"state\": \"TX\", \"country\": \"USA\", \"latitude\": 33.54980833, \"longitude\": -102.3727333}, {\"iata\": \"Q26\", \"name\": \"Terry County\", \"city\": \"Brownfield\", \"state\": \"TX\", \"country\": \"USA\", \"latitude\": 33.173675, \"longitude\": -102.1926208}, {\"iata\": \"Q41\", \"name\": \"Floydada Municipal\", \"city\": \"Floydada\", \"state\": \"TX\", \"country\": \"USA\", \"latitude\": 34.00230056, \"longitude\": -101.330435}, {\"iata\": \"Q55\", \"name\": \"Dimmitt Municipal\", \"city\": \"Dimmitt\", \"state\": \"TX\", \"country\": \"USA\", \"latitude\": 34.56673556, \"longitude\": -102.3226947}, {\"iata\": \"RBD\", \"name\": \"Redbird\", \"city\": \"Dallas\", \"state\": \"TX\", \"country\": \"USA\", \"latitude\": 32.68086111, \"longitude\": -96.86819444}, {\"iata\": \"RFG\", \"name\": \"Refugio-Rooke\", \"city\": \"Refugio\", \"state\": \"TX\", \"country\": \"USA\", \"latitude\": 28.29361694, \"longitude\": -97.32304833}, {\"iata\": \"RKP\", \"name\": \"Aransas County\", \"city\": \"Rockport\", \"state\": \"TX\", \"country\": \"USA\", \"latitude\": 28.08677778, \"longitude\": -97.04461111}, {\"iata\": \"SAT\", \"name\": \"San Antonio International\", \"city\": \"San Antonio\", \"state\": \"TX\", \"country\": \"USA\", \"latitude\": 29.53369444, \"longitude\": -98.46977778}, {\"iata\": \"SEP\", \"name\": \"Clark Field Municipal\", \"city\": \"Stephenville\", \"state\": \"TX\", \"country\": \"USA\", \"latitude\": 32.21532333, \"longitude\": -98.17766722}, {\"iata\": \"SGR\", \"name\": \"Sugar Land Municipal/Hull\", \"city\": \"Houston\", \"state\": \"TX\", \"country\": \"USA\", \"latitude\": 29.62225306, \"longitude\": -95.65652889}, {\"iata\": \"SJT\", \"name\": \"San Angelo Regional /Mathis\", \"city\": \"San Angelo\", \"state\": \"TX\", \"country\": \"USA\", \"latitude\": 31.35775, \"longitude\": -100.4963056}, {\"iata\": \"SLR\", \"name\": \"Sulphur Springs Municipal\", \"city\": \"Sulphur Springs\", \"state\": \"TX\", \"country\": \"USA\", \"latitude\": 33.15983333, \"longitude\": -95.62113889}, {\"iata\": \"SNK\", \"name\": \"Winston\", \"city\": \"Snyder\", \"state\": \"TX\", \"country\": \"USA\", \"latitude\": 32.69338667, \"longitude\": -100.9504525}, {\"iata\": \"SPS\", \"name\": \"Sheppard AFB/Wichita Falls Municipal\", \"city\": \"Wichita Falls\", \"state\": \"TX\", \"country\": \"USA\", \"latitude\": 33.98879611, \"longitude\": -98.49189333}, {\"iata\": \"SPX\", \"name\": \"Houston-Gulf\", \"city\": \"Houston\", \"state\": \"TX\", \"country\": \"USA\", \"latitude\": 29.50836111, \"longitude\": -95.05133333}, {\"iata\": \"SSF\", \"name\": \"Stinson Municipal\", \"city\": \"San Antonio\", \"state\": \"TX\", \"country\": \"USA\", \"latitude\": 29.3370075, \"longitude\": -98.47114056}, {\"iata\": \"SWW\", \"name\": \"Avenger\", \"city\": \"Sweetwater\", \"state\": \"TX\", \"country\": \"USA\", \"latitude\": 32.46736806, \"longitude\": -100.4665508}, {\"iata\": \"T00\", \"name\": \"Chambers County\", \"city\": \"Anahauac\", \"state\": \"TX\", \"country\": \"USA\", \"latitude\": 29.77, \"longitude\": -94.66361194}, {\"iata\": \"T18\", \"name\": \"Brooks County\", \"city\": \"Falfurrias\", \"state\": \"TX\", \"country\": \"USA\", \"latitude\": 27.20683333, \"longitude\": -98.12117083}, {\"iata\": \"T28\", \"name\": \"Lampasas Municipal\", \"city\": \"Lampasas\", \"state\": \"TX\", \"country\": \"USA\", \"latitude\": 31.10672694, \"longitude\": -98.19600194}, {\"iata\": \"T35\", \"name\": \"Cameron Municipal Airpark\", \"city\": \"Cameron\", \"state\": \"TX\", \"country\": \"USA\", \"latitude\": 30.87935556, \"longitude\": -96.97109694}, {\"iata\": \"T41\", \"name\": \"La Porte Municipal\", \"city\": \"La Porte\", \"state\": \"TX\", \"country\": \"USA\", \"latitude\": 29.66925, \"longitude\": -95.06419444}, {\"iata\": \"T47\", \"name\": \"Kickapoo Downtown Airpark\", \"city\": \"Wichita Falls\", \"state\": \"TX\", \"country\": \"USA\", \"latitude\": 33.86122222, \"longitude\": -98.4904425}, {\"iata\": \"T49\", \"name\": \"Big Spring McMahon-Wrinkle\", \"city\": \"Big Spring\", \"state\": \"TX\", \"country\": \"USA\", \"latitude\": 32.21261111, \"longitude\": -101.5216389}, {\"iata\": \"T53\", \"name\": \"Robstown-Nueces County\", \"city\": \"Robstown\", \"state\": \"TX\", \"country\": \"USA\", \"latitude\": 27.77854306, \"longitude\": -97.69052389}, {\"iata\": \"T56\", \"name\": \"Crockett-Houston County\", \"city\": \"Crockett\", \"state\": \"TX\", \"country\": \"USA\", \"latitude\": 31.30696111, \"longitude\": -95.40383056}, {\"iata\": \"T57\", \"name\": \"Garland Heliport\", \"city\": \"Garland\", \"state\": \"TX\", \"country\": \"USA\", \"latitude\": 32.887625, \"longitude\": -96.6836075}, {\"iata\": \"T60\", \"name\": \"Stonewall County\", \"city\": \"Aspermont\", \"state\": \"TX\", \"country\": \"USA\", \"latitude\": 33.17231861, \"longitude\": -100.1976044}, {\"iata\": \"T65\", \"name\": \"Mid Valley\", \"city\": \"Weslaco\", \"state\": \"TX\", \"country\": \"USA\", \"latitude\": 26.17763889, \"longitude\": -97.97305556}, {\"iata\": \"T69\", \"name\": \"Sinton-San Patricio County\", \"city\": \"Sinton\", \"state\": \"TX\", \"country\": \"USA\", \"latitude\": 28.03925, \"longitude\": -97.54244444}, {\"iata\": \"T71\", \"name\": \"Cuero Municipal\", \"city\": \"Cuero\", \"state\": \"TX\", \"country\": \"USA\", \"latitude\": 29.08358806, \"longitude\": -97.26693417}, {\"iata\": \"T72\", \"name\": \"Hearne Municipal\", \"city\": \"Hearne\", \"state\": \"TX\", \"country\": \"USA\", \"latitude\": 30.87182917, \"longitude\": -96.62222639}, {\"iata\": \"T74\", \"name\": \"Taylor Municipal\", \"city\": \"Taylor\", \"state\": \"TX\", \"country\": \"USA\", \"latitude\": 30.57194444, \"longitude\": -97.44316667}, {\"iata\": \"T78\", \"name\": \"Liberty Municipal\", \"city\": \"Liberty\", \"state\": \"TX\", \"country\": \"USA\", \"latitude\": 30.07780556, \"longitude\": -94.69855556}, {\"iata\": \"T80\", \"name\": \"Kleberg County\", \"city\": \"Kingsville\", \"state\": \"TX\", \"country\": \"USA\", \"latitude\": 27.55086111, \"longitude\": -98.03091833}, {\"iata\": \"T82\", \"name\": \"Gillespie County\", \"city\": \"Fredericksburg\", \"state\": \"TX\", \"country\": \"USA\", \"latitude\": 30.24369444, \"longitude\": -98.90952778}, {\"iata\": \"T89\", \"name\": \"Castroville Municipal\", \"city\": \"Castroville\", \"state\": \"TX\", \"country\": \"USA\", \"latitude\": 29.34192083, \"longitude\": -98.85090056}, {\"iata\": \"T90\", \"name\": \"Chambers County\", \"city\": \"Winnie/Stowell\", \"state\": \"TX\", \"country\": \"USA\", \"latitude\": 29.80411, \"longitude\": -94.43102306}, {\"iata\": \"T97\", \"name\": \"Calhoun County\", \"city\": \"Port Lavaca\", \"state\": \"TX\", \"country\": \"USA\", \"latitude\": 28.65405111, \"longitude\": -96.6813125}, {\"iata\": \"TKI\", \"name\": \"McKinney Municipal\", \"city\": \"McKinney\", \"state\": \"TX\", \"country\": \"USA\", \"latitude\": 33.17794778, \"longitude\": -96.5905275}, {\"iata\": \"TPL\", \"name\": \"Draughon-Miller Central Texas Regional\", \"city\": \"Temple\", \"state\": \"TX\", \"country\": \"USA\", \"latitude\": 31.1525, \"longitude\": -97.40777778}, {\"iata\": \"TRL\", \"name\": \"Terrell Municipal\", \"city\": \"Terrell\", \"state\": \"TX\", \"country\": \"USA\", \"latitude\": 32.71004667, \"longitude\": -96.26742306}, {\"iata\": \"TYR\", \"name\": \"Tyler Pounds\", \"city\": \"Tyler\", \"state\": \"TX\", \"country\": \"USA\", \"latitude\": 32.35413889, \"longitude\": -95.40238611}, {\"iata\": \"UTS\", \"name\": \"Huntsville Municipal\", \"city\": \"Huntsville\", \"state\": \"TX\", \"country\": \"USA\", \"latitude\": 30.74688667, \"longitude\": -95.58716667}, {\"iata\": \"UVA\", \"name\": \"Garner\", \"city\": \"Uvalde\", \"state\": \"TX\", \"country\": \"USA\", \"latitude\": 29.21135028, \"longitude\": -99.74358306}, {\"iata\": \"VCT\", \"name\": \"Victoria Regional\", \"city\": \"Victoria\", \"state\": \"TX\", \"country\": \"USA\", \"latitude\": 28.85255556, \"longitude\": -96.91848722}, {\"iata\": \"VHN\", \"name\": \"Culberson County\", \"city\": \"Van Horn\", \"state\": \"TX\", \"country\": \"USA\", \"latitude\": 31.05784417, \"longitude\": -104.7838056}]}}, {\"mode\": \"vega-lite\"});\n",
       "</script>"
      ],
      "text/plain": [
       "alt.LayerChart(...)"
      ]
     },
     "execution_count": 8,
     "metadata": {},
     "output_type": "execute_result"
    }
   ],
   "source": [
    "background + points"
   ]
  }
 ],
 "metadata": {
  "kernelspec": {
   "display_name": "menv",
   "language": "python",
   "name": "menv"
  },
  "language_info": {
   "codemirror_mode": {
    "name": "ipython",
    "version": 3
   },
   "file_extension": ".py",
   "mimetype": "text/x-python",
   "name": "python",
   "nbconvert_exporter": "python",
   "pygments_lexer": "ipython3",
   "version": "3.8.10"
  }
 },
 "nbformat": 4,
 "nbformat_minor": 5
}
