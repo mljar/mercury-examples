{
 "cells": [
  {
   "cell_type": "code",
   "execution_count": 1,
   "id": "316b5c70",
   "metadata": {},
   "outputs": [],
   "source": [
    "import mercury as mr"
   ]
  },
  {
   "cell_type": "code",
   "execution_count": 2,
   "id": "bf1a7848",
   "metadata": {},
   "outputs": [],
   "source": [
    "letters = [\"small\", \"capital\"]\n",
    "example_letters = {\n",
    "    \"small\": [\"a\", \"b\", \"c\", \"d\"],\n",
    "    \"capital\": [\"A\", \"B\", \"C\", \"D\"]\n",
    "}"
   ]
  },
  {
   "cell_type": "code",
   "execution_count": 3,
   "id": "0249060f",
   "metadata": {},
   "outputs": [
    {
     "data": {
      "application/mercury+json": "{\n    \"widget\": \"Select\",\n    \"value\": \"small\",\n    \"choices\": [\n        \"small\",\n        \"capital\"\n    ],\n    \"label\": \"Small or capital?\",\n    \"model_id\": \"54216051432440b3803141d78d605359\",\n    \"code_uid\": \"Select.0.41.14.1-rand5107087a\"\n}",
      "application/vnd.jupyter.widget-view+json": {
       "model_id": "54216051432440b3803141d78d605359",
       "version_major": 2,
       "version_minor": 0
      },
      "text/plain": [
       "mercury.Select"
      ]
     },
     "metadata": {},
     "output_type": "display_data"
    }
   ],
   "source": [
    "size = mr.Select(value=\"small\", choices=letters, label=\"Small or capital?\")"
   ]
  },
  {
   "cell_type": "code",
   "execution_count": 4,
   "id": "08a45795",
   "metadata": {},
   "outputs": [
    {
     "data": {
      "application/mercury+json": "{\n    \"widget\": \"Select\",\n    \"value\": \"a\",\n    \"choices\": [\n        \"a\",\n        \"b\",\n        \"c\",\n        \"d\"\n    ],\n    \"label\": \"Select letter\",\n    \"model_id\": \"5007bca0fb874fecb26ff2d91d53be0e\",\n    \"code_uid\": \"Select.0.41.14.1-randefdb07c6\"\n}",
      "application/vnd.jupyter.widget-view+json": {
       "model_id": "5007bca0fb874fecb26ff2d91d53be0e",
       "version_major": 2,
       "version_minor": 0
      },
      "text/plain": [
       "mercury.Select"
      ]
     },
     "metadata": {},
     "output_type": "display_data"
    }
   ],
   "source": [
    "example = mr.Select(value=example_letters[size.value][0], \n",
    "                    choices=example_letters[size.value], \n",
    "                    label=\"Select letter\")"
   ]
  },
  {
   "cell_type": "code",
   "execution_count": 5,
   "id": "562d2b60",
   "metadata": {},
   "outputs": [
    {
     "name": "stdout",
     "output_type": "stream",
     "text": [
      "Example small letter is a\n"
     ]
    }
   ],
   "source": [
    "print(f\"Example {size.value} letter is {example.value}\")"
   ]
  },
  {
   "cell_type": "code",
   "execution_count": null,
   "id": "e3c2e85e",
   "metadata": {},
   "outputs": [],
   "source": []
  }
 ],
 "metadata": {
  "kernelspec": {
   "display_name": "mex",
   "language": "python",
   "name": "mex"
  },
  "language_info": {
   "codemirror_mode": {
    "name": "ipython",
    "version": 3
   },
   "file_extension": ".py",
   "mimetype": "text/x-python",
   "name": "python",
   "nbconvert_exporter": "python",
   "pygments_lexer": "ipython3",
   "version": "3.8.10"
  }
 },
 "nbformat": 4,
 "nbformat_minor": 5
}
